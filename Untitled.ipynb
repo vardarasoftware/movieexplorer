{
 "cells": [
  {
   "cell_type": "code",
   "execution_count": 1,
   "id": "824b4ae1",
   "metadata": {},
   "outputs": [
    {
     "ename": "NoMethodError",
     "evalue": "undefined method `build_statement' for an instance of IRB::Irb",
     "output_type": "error",
     "traceback": [
      "\u001b[31mNoMethodError\u001b[0m: undefined method `build_statement' for an instance of IRB::Irb",
      "/usr/share/rvm/gems/ruby-3.3.5/gems/iruby-0.8.0/lib/iruby/backend.rb:60:in `eval'",
      "/usr/share/rvm/gems/ruby-3.3.5/gems/iruby-0.8.0/lib/iruby/backend.rb:16:in `eval'",
      "/usr/share/rvm/gems/ruby-3.3.5/gems/iruby-0.8.0/lib/iruby/kernel.rb:204:in `execute_request'",
      "/usr/share/rvm/gems/ruby-3.3.5/gems/iruby-0.8.0/lib/iruby/kernel.rb:139:in `dispatch'",
      "/usr/share/rvm/gems/ruby-3.3.5/gems/iruby-0.8.0/lib/iruby/kernel.rb:127:in `run'",
      "/usr/share/rvm/gems/ruby-3.3.5/gems/iruby-0.8.0/lib/iruby/kernel_app.rb:90:in `run_kernel'",
      "/usr/share/rvm/gems/ruby-3.3.5/gems/iruby-0.8.0/lib/iruby/kernel_app.rb:13:in `run'",
      "/usr/share/rvm/gems/ruby-3.3.5/gems/iruby-0.8.0/lib/iruby/application.rb:110:in `run'",
      "/usr/share/rvm/gems/ruby-3.3.5/gems/iruby-0.8.0/exe/iruby:7:in `<top (required)>'",
      "/usr/share/rvm/gems/ruby-3.3.5/bin/iruby:25:in `load'",
      "/usr/share/rvm/gems/ruby-3.3.5/bin/iruby:25:in `<main>'"
     ]
    }
   ],
   "source": [
    "require 'table_print'"
   ]
  },
  {
   "cell_type": "code",
   "execution_count": null,
   "id": "6f60b663",
   "metadata": {},
   "outputs": [],
   "source": []
  }
 ],
 "metadata": {
  "kernelspec": {
   "display_name": "Ruby 3 (iruby kernel)",
   "language": "ruby",
   "name": "ruby3"
  },
  "language_info": {
   "file_extension": ".rb",
   "mimetype": "application/x-ruby",
   "name": "ruby",
   "version": "3.3.5"
  }
 },
 "nbformat": 4,
 "nbformat_minor": 5
}
