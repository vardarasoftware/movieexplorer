{
 "cells": [
  {
   "cell_type": "code",
   "execution_count": 1,
   "id": "ea0bb0b9",
   "metadata": {},
   "outputs": [
    {
     "data": {
      "text/plain": [
       "true"
      ]
     },
     "execution_count": 1,
     "metadata": {},
     "output_type": "execute_result"
    }
   ],
   "source": [
    "require \"./lib/movie_explorer\""
   ]
  },
  {
   "cell_type": "code",
   "execution_count": 2,
   "id": "bb74db3c",
   "metadata": {},
   "outputs": [
    {
     "data": {
      "text/plain": [
       "\"http://www.omdbapi.com\""
      ]
     },
     "execution_count": 2,
     "metadata": {},
     "output_type": "execute_result"
    }
   ],
   "source": [
    "MovieAPI::BASE_URL"
   ]
  },
  {
   "cell_type": "code",
   "execution_count": 3,
   "id": "b07315c2",
   "metadata": {},
   "outputs": [
    {
     "data": {
      "text/plain": [
       "#<MovieAPI:0x00007a4512cc2de8 @api_key=\"879a3d1b\">"
      ]
     },
     "execution_count": 3,
     "metadata": {},
     "output_type": "execute_result"
    }
   ],
   "source": [
    "m = MovieAPI.new"
   ]
  },
  {
   "cell_type": "markdown",
   "id": "e2c21358",
   "metadata": {},
   "source": [
    "response = m.search_by_title(\"spiderman\")"
   ]
  },
  {
   "cell_type": "code",
   "execution_count": 4,
   "id": "0d0bdecd",
   "metadata": {},
   "outputs": [
    {
     "name": "stdout",
     "output_type": "stream",
     "text": [
      "{\"Search\"=>[{\"Title\"=>\"Italian Spiderman\", \"Year\"=>\"2007\", \"imdbID\"=>\"tt2705436\", \"Type\"=>\"movie\", \"Poster\"=>\"https://m.media-amazon.com/images/M/MV5BYWNiMmNlNmQtZTI2MS00MzAxLTgxM2QtNDY3ZGQxNDMwZDgzXkEyXkFqcGc@._V1_SX300.jpg\"}, {\"Title\"=>\"Superman, Spiderman or Batman\", \"Year\"=>\"2011\", \"imdbID\"=>\"tt2084949\", \"Type\"=>\"movie\", \"Poster\"=>\"https://m.media-amazon.com/images/M/MV5BMjQ4MzcxNDU3N15BMl5BanBnXkFtZTgwOTE1MzMxNzE@._V1_SX300.jpg\"}, {\"Title\"=>\"Spiderman\", \"Year\"=>\"1990\", \"imdbID\"=>\"tt0100669\", \"Type\"=>\"movie\", \"Poster\"=>\"N/A\"}, {\"Title\"=>\"The Amazing Spiderman 2 Webb Cut\", \"Year\"=>\"2021\", \"imdbID\"=>\"tt18351128\", \"Type\"=>\"movie\", \"Poster\"=>\"https://m.media-amazon.com/images/M/MV5BNzI0MmQyMzYtZDAzNi00ZWZiLWFjMTgtNzQwOTRjYTFlM2Y3XkEyXkFqcGc@._V1_SX300.jpg\"}, {\"Title\"=>\"Spiderman the Verse\", \"Year\"=>\"2019–\", \"imdbID\"=>\"tt12122034\", \"Type\"=>\"series\", \"Poster\"=>\"https://m.media-amazon.com/images/M/MV5BNDBjNWY3OWYtMjk2ZS00NjA2LWE0NzAtOWQxNzBhNjZlMGYyXkEyXkFqcGc@._V1_SX300.jpg\"}, {\"Title\"=>\"Spiderman\", \"Year\"=>\"2010\", \"imdbID\"=>\"tt1785572\", \"Type\"=>\"movie\", \"Poster\"=>\"N/A\"}, {\"Title\"=>\"Spiderman in Cannes\", \"Year\"=>\"2016\", \"imdbID\"=>\"tt5978586\", \"Type\"=>\"movie\", \"Poster\"=>\"https://m.media-amazon.com/images/M/MV5BZjc4MDYyMWQtNjM5MS00NzQxLTg5MTktMjI1MTVmNDNmNTA4XkEyXkFqcGc@._V1_SX300.jpg\"}, {\"Title\"=>\"Spiderman and Grandma\", \"Year\"=>\"2009\", \"imdbID\"=>\"tt1433184\", \"Type\"=>\"movie\", \"Poster\"=>\"https://m.media-amazon.com/images/M/MV5BMjE3Mzg0MjAxMl5BMl5BanBnXkFtZTcwNjIyODg5Mg@@._V1_SX300.jpg\"}, {\"Title\"=>\"Fighting, Flying and Driving: The Stunts of Spiderman 3\", \"Year\"=>\"2007\", \"imdbID\"=>\"tt1132238\", \"Type\"=>\"movie\", \"Poster\"=>\"https://m.media-amazon.com/images/M/MV5BNTI3NDE1ZmEtMTRiMS00YTY4LTk0OGItNjY4YmI0MDM4OGM4XkEyXkFqcGdeQXVyODE2NDgwMzM@._V1_SX300.jpg\"}, {\"Title\"=>\"Discount Spiderman 2\", \"Year\"=>\"2018\", \"imdbID\"=>\"tt9146610\", \"Type\"=>\"movie\", \"Poster\"=>\"https://m.media-amazon.com/images/M/MV5BY2U4NjY2YTQtZDFiYS00YTk2LTk5NDItMWVlNmIwZjYyZmE5XkEyXkFqcGc@._V1_SX300.jpg\"}], \"totalResults\"=>\"27\", \"Response\"=>\"True\"}\n"
     ]
    }
   ],
   "source": [
    "response = m.search_by_title(\"spiderman\")"
   ]
  },
  {
   "cell_type": "code",
   "execution_count": 11,
   "id": "230a05b8",
   "metadata": {},
   "outputs": [
    {
     "data": {
      "text/plain": [
       "#<MovieAPI:0x000070d49d6d21c0 @api_key=nil>"
      ]
     },
     "execution_count": 11,
     "metadata": {},
     "output_type": "execute_result"
    }
   ],
   "source": [
    "m = MovieAPI.new"
   ]
  },
  {
   "cell_type": "code",
   "execution_count": 12,
   "id": "51b77dcd",
   "metadata": {},
   "outputs": [
    {
     "data": {
      "text/plain": [
       "{:error=>\"Failed to fetch data\", :code=>401, :message=>\"Unauthorized\"}"
      ]
     },
     "execution_count": 12,
     "metadata": {},
     "output_type": "execute_result"
    }
   ],
   "source": [
    "response = m.search_by_title(\"spiderman\")"
   ]
  },
  {
   "cell_type": "code",
   "execution_count": null,
   "id": "c333256b",
   "metadata": {},
   "outputs": [],
   "source": []
  }
 ],
 "metadata": {
  "kernelspec": {
   "display_name": "Ruby 3 (iruby kernel)",
   "language": "ruby",
   "name": "ruby3"
  },
  "language_info": {
   "file_extension": ".rb",
   "mimetype": "application/x-ruby",
   "name": "ruby",
   "version": "3.3.5"
  }
 },
 "nbformat": 4,
 "nbformat_minor": 5
}
